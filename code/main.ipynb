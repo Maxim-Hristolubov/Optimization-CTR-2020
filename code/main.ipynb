{
 "cells": [
  {
   "cell_type": "markdown",
   "metadata": {},
   "source": [
    "$logloss = f(x) + g(x)$\n",
    "\n",
    "$f(w) = \\frac{1}{n}\\sum\\limits^{n}\\ln{(1+e^{-y_k x_k^T w})}$\n",
    "\n",
    "$g(w) = C ||w||^2_2$"
   ]
  },
  {
   "cell_type": "code",
   "execution_count": 4,
   "metadata": {},
   "outputs": [
    {
     "name": "stdout",
     "output_type": "stream",
     "text": [
      "X.shape = (2048, 2112) y.shape = (2048,) nonzero in X = (245760,)\n"
     ]
    }
   ],
   "source": [
    "%matplotlib inline\n",
    "import matplotlib.pyplot as plt\n",
    "plt.rc(\"text\", usetex=True)\n",
    "import seaborn as sns\n",
    "sns.set_context(\"talk\")\n",
    "figsize=(8, 6)\n",
    "fontsize = 18\n",
    "\n",
    "import numpy as np\n",
    "import sklearn.datasets as skldata\n",
    "import sklearn.preprocessing as skprep\n",
    "import scipy.optimize as scopt\n",
    "import sklearn.preprocessing as skprep\n",
    "import scipy.special as scspec\n",
    "import cvxpy as cvx\n",
    "from scipy.sparse import *\n",
    "import math\n",
    "import methods\n",
    "\n",
    "import imp\n",
    "import methods\n",
    "imp.reload(methods)\n",
    "\n",
    "C = (0.000001,0.0001)\n",
    "m = 64\n",
    "n = 2048\n",
    "\n",
    "X,y = methods.create_data(m,n)\n",
    "\n",
    "def f(w, Xb, yb, C):\n",
    "    return np.mean(np.logaddexp(np.zeros(X.shape[0]), -y * X.dot(w)))\n",
    "def g(w, C):\n",
    "    return C[0]*np.linalg.norm(w[:m],2)**2+C[1]*np.linalg.norm(w[m:],2)**2\n",
    "def logloss(w, Xb, yb, C):\n",
    "    return f(w, Xb, yb, C) + g(w, C)\n",
    "def f_gradient(w, Xb, yb, C):\n",
    "    denom = scspec.expit(-y * X.dot(w))\n",
    "    return -  X.T.dot(y * denom) / X.shape[0]\n",
    "def logloss_gradient(w, Xb, yb, C):\n",
    "    return np.concatenate((2*C[0]*w[:m],2*C[1]*w[m:]), axis=0) + f_gradient(w, Xb, yb, C)\n",
    "def quad_prox(w, C):\n",
    "    return np.concatenate((w[:m]/(2*C[0]+1),w[m:]/(2*C[1]+1)), axis=0)\n",
    "\n",
    "f_ = lambda w : f(w, X, y, C)\n",
    "f_grad_ = lambda w : f_gradient(w, X, y, C)\n"
   ]
  },
  {
   "cell_type": "code",
   "execution_count": null,
   "metadata": {},
   "outputs": [
    {
     "name": "stdout",
     "output_type": "stream",
     "text": [
      "adaptSGDa f*   = 0.6566732489109339\n",
      "adaptSGD f*   = 1.7445568098087192\n",
      "proxSGD f* = 7444.56797482213\n"
     ]
    }
   ],
   "source": [
    "import imp\n",
    "import methods\n",
    "imp.reload(methods)\n",
    "#x0 = np.array([0,0,0])\n",
    "x0 = 1000*np.random.rand(X.shape[1])\n",
    "\n",
    "x_adSGDa, conv_adSGDa = methods.adapt_SGDac(logloss, logloss_gradient, quad_prox, X, y, C, x0, epochs = 6000)\n",
    "print(\"adaptSGDa f*   = {}\".format(min([f_(x) + g(x,C) for x in conv_adSGDa])))\n",
    "\n",
    "x_adSGD, conv_adSGD = methods.adapt_SGD(logloss, logloss_gradient, quad_prox, X, y, C, x0, epochs = 6000)\n",
    "print(\"adaptSGD f*   = {}\".format(min([f_(x) + g(x,C) for x in conv_adSGD])))\n",
    "\n",
    "x_prsgd, conv_prsgd = methods.prox_SGD(f,f_gradient,quad_prox, X,y,C,x0,epochs = 100,alpha = 0.1, batch_size = 32)\n",
    "print(\"proxSGD f* = {}\".format(min([f_(x) + g(x,C) for x in conv_prsgd])))\n",
    "\n",
    "x_fprsgd, conv_fprsgd = methods.prox_SGD(f,f_gradient,quad_prox, X, y, C, x0,epochs = 100,alpha = 0.1,\n",
    "                                         batch_size = 32, accel=True)\n",
    "print(\"fastProxSGD f* = {}\".format(min([f_(x) + g(x,C) for x in conv_fprsgd])))\n"
   ]
  },
  {
   "cell_type": "code",
   "execution_count": null,
   "metadata": {},
   "outputs": [],
   "source": [
    "plt.figure(figsize=(12, 8))\n",
    "fontsize=20\n",
    "plt.plot([f_(x) + g(x,C) for x in conv_adSGD], label=\"adaptSGD\")\n",
    "plt.plot([f_(x) + g(x,C) for x in conv_adSGDa], label=\"adaptSGDa\")\n",
    "plt.plot([f_(x) + g(x,C) for x in conv_prsgd], label=\"proxSGD\")\n",
    "plt.plot([f_(x) + g(x,C) for x in conv_fprsgd], label=\"fastProxSGD\")\n",
    "plt.legend(fontsize=fontsize)\n",
    "plt.xlabel(r\"Number of iterations, $k$\", fontsize=fontsize)\n",
    "plt.ylabel(r\"$h(x_k) + g(x_k)$\", fontsize=fontsize)\n",
    "plt.xticks(fontsize=fontsize)\n",
    "_ = plt.yticks(fontsize=fontsize)\n",
    "plt.yscale(\"log\")"
   ]
  },
  {
   "cell_type": "code",
   "execution_count": null,
   "metadata": {},
   "outputs": [],
   "source": []
  },
  {
   "cell_type": "code",
   "execution_count": null,
   "metadata": {},
   "outputs": [],
   "source": []
  },
  {
   "cell_type": "code",
   "execution_count": null,
   "metadata": {},
   "outputs": [],
   "source": []
  },
  {
   "cell_type": "code",
   "execution_count": null,
   "metadata": {},
   "outputs": [],
   "source": []
  },
  {
   "cell_type": "code",
   "execution_count": 100,
   "metadata": {},
   "outputs": [],
   "source": []
  },
  {
   "cell_type": "code",
   "execution_count": null,
   "metadata": {},
   "outputs": [],
   "source": []
  },
  {
   "cell_type": "code",
   "execution_count": null,
   "metadata": {},
   "outputs": [],
   "source": []
  },
  {
   "cell_type": "code",
   "execution_count": null,
   "metadata": {},
   "outputs": [],
   "source": []
  }
 ],
 "metadata": {
  "kernelspec": {
   "display_name": "Python 3",
   "language": "python",
   "name": "python3"
  },
  "language_info": {
   "codemirror_mode": {
    "name": "ipython",
    "version": 3
   },
   "file_extension": ".py",
   "mimetype": "text/x-python",
   "name": "python",
   "nbconvert_exporter": "python",
   "pygments_lexer": "ipython3",
   "version": "3.7.6"
  }
 },
 "nbformat": 4,
 "nbformat_minor": 4
}
