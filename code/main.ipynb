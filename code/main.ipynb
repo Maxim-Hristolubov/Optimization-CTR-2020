{
 "cells": [
  {
   "cell_type": "markdown",
   "metadata": {},
   "source": [
    "$logloss = f(x) + g(x)$\n",
    "\n",
    "$f(w) = \\frac{1}{n}\\sum\\limits^{n}\\ln{(1+e^{-y_k x_k^T w})}$\n",
    "\n",
    "$g(w) = C ||w||^2_2$"
   ]
  },
  {
   "cell_type": "code",
   "execution_count": 1,
   "metadata": {},
   "outputs": [
    {
     "name": "stderr",
     "output_type": "stream",
     "text": [
      "/home/apxapa/anaconda3/lib/python3.7/site-packages/sklearn/utils/deprecation.py:144: FutureWarning: The sklearn.datasets.samples_generator module is  deprecated in version 0.22 and will be removed in version 0.24. The corresponding classes / functions should instead be imported from sklearn.datasets. Anything that cannot be imported from sklearn.datasets is now part of the private API.\n",
      "  warnings.warn(message, FutureWarning)\n"
     ]
    },
    {
     "name": "stdout",
     "output_type": "stream",
     "text": [
      "X.shape = (327062, 37894) y.shape = (327062,) nonzero in X = (26951907,)\n"
     ]
    }
   ],
   "source": [
    "%matplotlib inline\n",
    "import matplotlib.pyplot as plt\n",
    "plt.rc(\"text\", usetex=True)\n",
    "import seaborn as sns\n",
    "sns.set_context(\"talk\")\n",
    "figsize=(8, 6)\n",
    "fontsize = 18\n",
    "\n",
    "import numpy as np\n",
    "import sklearn.datasets as skldata\n",
    "import sklearn.preprocessing as skprep\n",
    "import scipy.optimize as scopt\n",
    "import sklearn.preprocessing as skprep\n",
    "import scipy.special as scspec\n",
    "from scipy.sparse import *\n",
    "import math\n",
    "from numpy import linalg as LA\n",
    "import methods\n",
    "from scipy.sparse import *\n",
    "\n",
    "import imp\n",
    "from methods import *\n",
    "imp.reload(methods)\n",
    "\n",
    "m = 64\n",
    "n = 16192\n",
    "\n",
    "X,Y = methods.create_data(m,n,filepath = 'ESOC.mat')\n",
    "x0 = 10*np.random.rand(X.shape[1])\n",
    "\n",
    "f_ = lambda w : f(w, X, Y)\n",
    "f_grad_ = lambda w : f_gradient(w, X, Y)\n",
    "\n",
    "logloss_ = lambda w : logloss(w, X, Y)\n",
    "logloss_gradient_ = lambda w : logloss_gradient(w, X, Y)\n",
    "\n",
    "#M = np.asarray([np.mean(z) for z in X.T])\n",
    "#D = np.mean([LA.norm(x.toarray()-M, 2) for x in X])\n",
    "#print(D)\n"
   ]
  },
  {
   "cell_type": "code",
   "execution_count": 193,
   "metadata": {},
   "outputs": [
    {
     "name": "stdout",
     "output_type": "stream",
     "text": [
      "fastProxSGD f* = 6.98695295050825 time:  10.656347101001302\n",
      "SPAG f*   = 0.696009754163308 time:  10.583341597000981\n"
     ]
    },
    {
     "ename": "KeyboardInterrupt",
     "evalue": "",
     "output_type": "error",
     "traceback": [
      "\u001b[0;31m---------------------------------------------------------------------------\u001b[0m",
      "\u001b[0;31mKeyboardInterrupt\u001b[0m                         Traceback (most recent call last)",
      "\u001b[0;32m<ipython-input-193-5d4cbf0daceb>\u001b[0m in \u001b[0;36m<module>\u001b[0;34m\u001b[0m\n\u001b[1;32m     11\u001b[0m \u001b[0mprint\u001b[0m\u001b[0;34m(\u001b[0m\u001b[0;34m\"SPAG f*   = {}\"\u001b[0m\u001b[0;34m.\u001b[0m\u001b[0mformat\u001b[0m\u001b[0;34m(\u001b[0m\u001b[0mmin\u001b[0m\u001b[0;34m(\u001b[0m\u001b[0;34m[\u001b[0m\u001b[0mf_\u001b[0m\u001b[0;34m(\u001b[0m\u001b[0mx\u001b[0m\u001b[0;34m)\u001b[0m \u001b[0;34m+\u001b[0m \u001b[0mg\u001b[0m\u001b[0;34m(\u001b[0m\u001b[0mx\u001b[0m\u001b[0;34m,\u001b[0m\u001b[0mC\u001b[0m\u001b[0;34m)\u001b[0m \u001b[0;32mfor\u001b[0m \u001b[0mx\u001b[0m \u001b[0;32min\u001b[0m \u001b[0mconv_SPAG\u001b[0m\u001b[0;34m]\u001b[0m\u001b[0;34m)\u001b[0m\u001b[0;34m)\u001b[0m\u001b[0;34m,\u001b[0m \u001b[0;34m\"time: \"\u001b[0m\u001b[0;34m,\u001b[0m \u001b[0mt_SPAG\u001b[0m\u001b[0;34m[\u001b[0m\u001b[0;34m-\u001b[0m\u001b[0;36m1\u001b[0m\u001b[0;34m]\u001b[0m\u001b[0;34m)\u001b[0m\u001b[0;34m\u001b[0m\u001b[0;34m\u001b[0m\u001b[0m\n\u001b[1;32m     12\u001b[0m \u001b[0;34m\u001b[0m\u001b[0m\n\u001b[0;32m---> 13\u001b[0;31m \u001b[0mt_SPAG2\u001b[0m\u001b[0;34m,\u001b[0m \u001b[0mx_SPAG2\u001b[0m\u001b[0;34m,\u001b[0m \u001b[0mconv_SPAG2\u001b[0m \u001b[0;34m=\u001b[0m \u001b[0mmethods\u001b[0m\u001b[0;34m.\u001b[0m\u001b[0mSPAG\u001b[0m\u001b[0;34m(\u001b[0m\u001b[0mf\u001b[0m\u001b[0;34m,\u001b[0m \u001b[0mf_gradient\u001b[0m\u001b[0;34m,\u001b[0m \u001b[0mg\u001b[0m\u001b[0;34m,\u001b[0m \u001b[0mg_gradient\u001b[0m\u001b[0;34m,\u001b[0m \u001b[0mX\u001b[0m\u001b[0;34m,\u001b[0m \u001b[0mY\u001b[0m\u001b[0;34m,\u001b[0m \u001b[0mC\u001b[0m\u001b[0;34m,\u001b[0m \u001b[0mx0\u001b[0m\u001b[0;34m,\u001b[0m \u001b[0mepochs\u001b[0m \u001b[0;34m=\u001b[0m \u001b[0;36m4\u001b[0m\u001b[0;34m)\u001b[0m\u001b[0;34m\u001b[0m\u001b[0;34m\u001b[0m\u001b[0m\n\u001b[0m\u001b[1;32m     14\u001b[0m \u001b[0mprint\u001b[0m\u001b[0;34m(\u001b[0m\u001b[0;34m\"SPAG f*   = {}\"\u001b[0m\u001b[0;34m.\u001b[0m\u001b[0mformat\u001b[0m\u001b[0;34m(\u001b[0m\u001b[0mmin\u001b[0m\u001b[0;34m(\u001b[0m\u001b[0;34m[\u001b[0m\u001b[0mf_\u001b[0m\u001b[0;34m(\u001b[0m\u001b[0mx\u001b[0m\u001b[0;34m)\u001b[0m \u001b[0;34m+\u001b[0m \u001b[0mg\u001b[0m\u001b[0;34m(\u001b[0m\u001b[0mx\u001b[0m\u001b[0;34m,\u001b[0m\u001b[0mC\u001b[0m\u001b[0;34m)\u001b[0m \u001b[0;32mfor\u001b[0m \u001b[0mx\u001b[0m \u001b[0;32min\u001b[0m \u001b[0mconv_SPAG2\u001b[0m\u001b[0;34m]\u001b[0m\u001b[0;34m)\u001b[0m\u001b[0;34m)\u001b[0m\u001b[0;34m,\u001b[0m \u001b[0;34m\"time: \"\u001b[0m\u001b[0;34m,\u001b[0m \u001b[0mt_SPAG2\u001b[0m\u001b[0;34m[\u001b[0m\u001b[0;34m-\u001b[0m\u001b[0;36m1\u001b[0m\u001b[0;34m]\u001b[0m\u001b[0;34m)\u001b[0m\u001b[0;34m\u001b[0m\u001b[0;34m\u001b[0m\u001b[0m\n\u001b[1;32m     15\u001b[0m \u001b[0;34m\u001b[0m\u001b[0m\n",
      "\u001b[0;32m~/Документы/ProjectOptim/code2/methods.py\u001b[0m in \u001b[0;36mSPAG\u001b[0;34m(f, f_gradient, g, g_gradient, X, Y, C, x0, epochs, L, mu, solver, err)\u001b[0m\n\u001b[1;32m    269\u001b[0m                 \u001b[0mV\u001b[0m\u001b[0;34m,\u001b[0m \u001b[0mV_grad\u001b[0m\u001b[0;34m,\u001b[0m \u001b[0mD_phi\u001b[0m \u001b[0;34m=\u001b[0m \u001b[0mV_task\u001b[0m\u001b[0;34m(\u001b[0m\u001b[0mF_grad\u001b[0m\u001b[0;34m,\u001b[0m \u001b[0my\u001b[0m\u001b[0;34m,\u001b[0m \u001b[0mv_pred\u001b[0m\u001b[0;34m,\u001b[0m \u001b[0mbeta\u001b[0m\u001b[0;34m,\u001b[0m \u001b[0mteta\u001b[0m\u001b[0;34m,\u001b[0m \u001b[0mC\u001b[0m\u001b[0;34m,\u001b[0m \u001b[0mXb\u001b[0m\u001b[0;34m=\u001b[0m\u001b[0mXb\u001b[0m\u001b[0;34m,\u001b[0m \u001b[0myb\u001b[0m\u001b[0;34m=\u001b[0m\u001b[0myb\u001b[0m\u001b[0;34m,\u001b[0m \u001b[0mmu\u001b[0m \u001b[0;34m=\u001b[0m \u001b[0mmu\u001b[0m\u001b[0;34m)\u001b[0m\u001b[0;34m\u001b[0m\u001b[0;34m\u001b[0m\u001b[0m\n\u001b[1;32m    270\u001b[0m                 \u001b[0madNest\u001b[0m \u001b[0;34m=\u001b[0m \u001b[0mfo\u001b[0m\u001b[0;34m.\u001b[0m\u001b[0mAcceleratedGD\u001b[0m\u001b[0;34m(\u001b[0m\u001b[0mV\u001b[0m\u001b[0;34m,\u001b[0m \u001b[0mV_grad\u001b[0m\u001b[0;34m,\u001b[0m \u001b[0mss\u001b[0m\u001b[0;34m.\u001b[0m\u001b[0mBacktracking\u001b[0m\u001b[0;34m(\u001b[0m\u001b[0mrule_type\u001b[0m\u001b[0;34m=\u001b[0m\u001b[0;34m\"Lipschitz\"\u001b[0m\u001b[0;34m,\u001b[0m \u001b[0mrho\u001b[0m\u001b[0;34m=\u001b[0m\u001b[0;36m0.5\u001b[0m\u001b[0;34m,\u001b[0m \u001b[0minit_alpha\u001b[0m\u001b[0;34m=\u001b[0m\u001b[0;36m1\u001b[0m\u001b[0;34m)\u001b[0m\u001b[0;34m)\u001b[0m\u001b[0;34m\u001b[0m\u001b[0;34m\u001b[0m\u001b[0m\n\u001b[0;32m--> 271\u001b[0;31m                 \u001b[0mv_next\u001b[0m \u001b[0;34m=\u001b[0m \u001b[0madNest\u001b[0m\u001b[0;34m.\u001b[0m\u001b[0msolve\u001b[0m\u001b[0;34m(\u001b[0m\u001b[0mx0\u001b[0m\u001b[0;34m=\u001b[0m\u001b[0mv_pred\u001b[0m\u001b[0;34m,\u001b[0m \u001b[0mmax_iter\u001b[0m\u001b[0;34m=\u001b[0m\u001b[0;36m1000\u001b[0m\u001b[0;34m,\u001b[0m \u001b[0mtol\u001b[0m\u001b[0;34m=\u001b[0m\u001b[0;36m0.1\u001b[0m\u001b[0;34m**\u001b[0m\u001b[0;36m4\u001b[0m\u001b[0;34m)\u001b[0m\u001b[0;34m\u001b[0m\u001b[0;34m\u001b[0m\u001b[0m\n\u001b[0m\u001b[1;32m    272\u001b[0m             \u001b[0;32melif\u001b[0m \u001b[0msolver\u001b[0m \u001b[0;34m==\u001b[0m \u001b[0;34m\"my\"\u001b[0m\u001b[0;34m:\u001b[0m\u001b[0;34m\u001b[0m\u001b[0;34m\u001b[0m\u001b[0m\n\u001b[1;32m    273\u001b[0m                 \u001b[0mV\u001b[0m\u001b[0;34m,\u001b[0m \u001b[0mV_grad\u001b[0m\u001b[0;34m,\u001b[0m \u001b[0mD_phi_\u001b[0m \u001b[0;34m=\u001b[0m \u001b[0mV_task\u001b[0m\u001b[0;34m(\u001b[0m\u001b[0mF_grad\u001b[0m\u001b[0;34m,\u001b[0m \u001b[0my\u001b[0m\u001b[0;34m,\u001b[0m \u001b[0mv_pred\u001b[0m\u001b[0;34m,\u001b[0m \u001b[0mbeta\u001b[0m\u001b[0;34m,\u001b[0m \u001b[0mteta\u001b[0m\u001b[0;34m,\u001b[0m \u001b[0mC\u001b[0m\u001b[0;34m,\u001b[0m \u001b[0mmu\u001b[0m \u001b[0;34m=\u001b[0m \u001b[0mmu\u001b[0m\u001b[0;34m)\u001b[0m\u001b[0;34m\u001b[0m\u001b[0;34m\u001b[0m\u001b[0m\n",
      "\u001b[0;32m~/anaconda3/lib/python3.7/site-packages/liboptpy/base_optimizer.py\u001b[0m in \u001b[0;36msolve\u001b[0;34m(self, x0, max_iter, tol, disp)\u001b[0m\n\u001b[1;32m     22\u001b[0m         \u001b[0miteration\u001b[0m \u001b[0;34m=\u001b[0m \u001b[0;36m0\u001b[0m\u001b[0;34m\u001b[0m\u001b[0;34m\u001b[0m\u001b[0m\n\u001b[1;32m     23\u001b[0m         \u001b[0;32mwhile\u001b[0m \u001b[0;32mTrue\u001b[0m\u001b[0;34m:\u001b[0m\u001b[0;34m\u001b[0m\u001b[0;34m\u001b[0m\u001b[0m\n\u001b[0;32m---> 24\u001b[0;31m             \u001b[0mh\u001b[0m \u001b[0;34m=\u001b[0m \u001b[0mself\u001b[0m\u001b[0;34m.\u001b[0m\u001b[0mget_direction\u001b[0m\u001b[0;34m(\u001b[0m\u001b[0mself\u001b[0m\u001b[0;34m.\u001b[0m\u001b[0m_x_current\u001b[0m\u001b[0;34m)\u001b[0m\u001b[0;34m\u001b[0m\u001b[0;34m\u001b[0m\u001b[0m\n\u001b[0m\u001b[1;32m     25\u001b[0m             \u001b[0mself\u001b[0m\u001b[0;34m.\u001b[0m\u001b[0m_grad_mem\u001b[0m\u001b[0;34m.\u001b[0m\u001b[0mappend\u001b[0m\u001b[0;34m(\u001b[0m\u001b[0mh\u001b[0m\u001b[0;34m)\u001b[0m\u001b[0;34m\u001b[0m\u001b[0;34m\u001b[0m\u001b[0m\n\u001b[1;32m     26\u001b[0m             \u001b[0mself\u001b[0m\u001b[0;34m.\u001b[0m\u001b[0m_alpha\u001b[0m \u001b[0;34m=\u001b[0m \u001b[0mself\u001b[0m\u001b[0;34m.\u001b[0m\u001b[0mget_stepsize\u001b[0m\u001b[0;34m(\u001b[0m\u001b[0;34m)\u001b[0m\u001b[0;34m\u001b[0m\u001b[0;34m\u001b[0m\u001b[0m\n",
      "\u001b[0;32m~/anaconda3/lib/python3.7/site-packages/liboptpy/unconstr_solvers/fo/_acc_gd.py\u001b[0m in \u001b[0;36mget_direction\u001b[0;34m(self, x)\u001b[0m\n\u001b[1;32m     13\u001b[0m \u001b[0;34m\u001b[0m\u001b[0m\n\u001b[1;32m     14\u001b[0m     \u001b[0;32mdef\u001b[0m \u001b[0mget_direction\u001b[0m\u001b[0;34m(\u001b[0m\u001b[0mself\u001b[0m\u001b[0;34m,\u001b[0m \u001b[0mx\u001b[0m\u001b[0;34m)\u001b[0m\u001b[0;34m:\u001b[0m\u001b[0;34m\u001b[0m\u001b[0;34m\u001b[0m\u001b[0m\n\u001b[0;32m---> 15\u001b[0;31m         \u001b[0;32mreturn\u001b[0m \u001b[0;34m-\u001b[0m\u001b[0mself\u001b[0m\u001b[0;34m.\u001b[0m\u001b[0m_grad\u001b[0m\u001b[0;34m(\u001b[0m\u001b[0mx\u001b[0m\u001b[0;34m)\u001b[0m\u001b[0;34m\u001b[0m\u001b[0;34m\u001b[0m\u001b[0m\n\u001b[0m\u001b[1;32m     16\u001b[0m \u001b[0;34m\u001b[0m\u001b[0m\n\u001b[1;32m     17\u001b[0m     \u001b[0;32mdef\u001b[0m \u001b[0m_update_x_current\u001b[0m\u001b[0;34m(\u001b[0m\u001b[0mself\u001b[0m\u001b[0;34m)\u001b[0m\u001b[0;34m:\u001b[0m\u001b[0;34m\u001b[0m\u001b[0;34m\u001b[0m\u001b[0m\n",
      "\u001b[0;32m~/Документы/ProjectOptim/code2/methods.py\u001b[0m in \u001b[0;36m<lambda>\u001b[0;34m(x)\u001b[0m\n\u001b[1;32m    223\u001b[0m         \u001b[0mD_phi_grad\u001b[0m \u001b[0;34m=\u001b[0m \u001b[0;32mlambda\u001b[0m \u001b[0mx\u001b[0m\u001b[0;34m,\u001b[0m\u001b[0mz\u001b[0m\u001b[0;34m:\u001b[0m \u001b[0mf1_grad\u001b[0m\u001b[0;34m(\u001b[0m\u001b[0mx\u001b[0m\u001b[0;34m)\u001b[0m \u001b[0;34m-\u001b[0m \u001b[0mf1_grad\u001b[0m\u001b[0;34m(\u001b[0m\u001b[0mz\u001b[0m\u001b[0;34m)\u001b[0m \u001b[0;34m-\u001b[0m \u001b[0mmu\u001b[0m\u001b[0;34m*\u001b[0m\u001b[0;34m(\u001b[0m\u001b[0mx\u001b[0m\u001b[0;34m-\u001b[0m\u001b[0mz\u001b[0m\u001b[0;34m)\u001b[0m\u001b[0;34m\u001b[0m\u001b[0;34m\u001b[0m\u001b[0m\n\u001b[1;32m    224\u001b[0m         \u001b[0mV\u001b[0m \u001b[0;34m=\u001b[0m \u001b[0;32mlambda\u001b[0m \u001b[0mx\u001b[0m\u001b[0;34m:\u001b[0m \u001b[0mteta\u001b[0m\u001b[0;34m*\u001b[0m\u001b[0;34m(\u001b[0m\u001b[0mF_grad\u001b[0m\u001b[0;34m.\u001b[0m\u001b[0mdot\u001b[0m\u001b[0;34m(\u001b[0m\u001b[0mx\u001b[0m\u001b[0;34m)\u001b[0m\u001b[0;34m+\u001b[0m\u001b[0mg\u001b[0m\u001b[0;34m(\u001b[0m\u001b[0mx\u001b[0m\u001b[0;34m,\u001b[0m\u001b[0mC\u001b[0m\u001b[0;34m)\u001b[0m\u001b[0;34m)\u001b[0m \u001b[0;34m+\u001b[0m \u001b[0;34m(\u001b[0m\u001b[0;36m1\u001b[0m\u001b[0;34m-\u001b[0m\u001b[0mbeta\u001b[0m\u001b[0;34m)\u001b[0m\u001b[0;34m*\u001b[0m\u001b[0mD_phi\u001b[0m\u001b[0;34m(\u001b[0m\u001b[0mx\u001b[0m\u001b[0;34m,\u001b[0m\u001b[0mv_pred\u001b[0m\u001b[0;34m)\u001b[0m \u001b[0;34m+\u001b[0m \u001b[0mbeta\u001b[0m\u001b[0;34m*\u001b[0m\u001b[0mD_phi\u001b[0m\u001b[0;34m(\u001b[0m\u001b[0mx\u001b[0m\u001b[0;34m,\u001b[0m\u001b[0my\u001b[0m\u001b[0;34m)\u001b[0m\u001b[0;34m\u001b[0m\u001b[0;34m\u001b[0m\u001b[0m\n\u001b[0;32m--> 225\u001b[0;31m         \u001b[0mV_grad\u001b[0m \u001b[0;34m=\u001b[0m \u001b[0;32mlambda\u001b[0m \u001b[0mx\u001b[0m\u001b[0;34m:\u001b[0m \u001b[0mteta\u001b[0m\u001b[0;34m*\u001b[0m\u001b[0;34m(\u001b[0m\u001b[0mF_grad\u001b[0m\u001b[0;34m+\u001b[0m\u001b[0mg_gradient\u001b[0m\u001b[0;34m(\u001b[0m\u001b[0mx\u001b[0m\u001b[0;34m,\u001b[0m\u001b[0mC\u001b[0m\u001b[0;34m)\u001b[0m\u001b[0;34m)\u001b[0m \u001b[0;34m+\u001b[0m \u001b[0;34m(\u001b[0m\u001b[0;36m1\u001b[0m\u001b[0;34m-\u001b[0m\u001b[0mbeta\u001b[0m\u001b[0;34m)\u001b[0m\u001b[0;34m*\u001b[0m\u001b[0mD_phi_grad\u001b[0m\u001b[0;34m(\u001b[0m\u001b[0mx\u001b[0m\u001b[0;34m,\u001b[0m\u001b[0mv_pred\u001b[0m\u001b[0;34m)\u001b[0m \u001b[0;34m+\u001b[0m \u001b[0mbeta\u001b[0m\u001b[0;34m*\u001b[0m\u001b[0mD_phi_grad\u001b[0m\u001b[0;34m(\u001b[0m\u001b[0mx\u001b[0m\u001b[0;34m,\u001b[0m\u001b[0my\u001b[0m\u001b[0;34m)\u001b[0m\u001b[0;34m\u001b[0m\u001b[0;34m\u001b[0m\u001b[0m\n\u001b[0m\u001b[1;32m    226\u001b[0m     \u001b[0;32melse\u001b[0m\u001b[0;34m:\u001b[0m\u001b[0;34m\u001b[0m\u001b[0;34m\u001b[0m\u001b[0m\n\u001b[1;32m    227\u001b[0m         \u001b[0mmu\u001b[0m \u001b[0;34m=\u001b[0m \u001b[0;36m1\u001b[0m\u001b[0;34m/\u001b[0m\u001b[0mX\u001b[0m\u001b[0;34m.\u001b[0m\u001b[0mshape\u001b[0m\u001b[0;34m[\u001b[0m\u001b[0;36m0\u001b[0m\u001b[0;34m]\u001b[0m \u001b[0;32mif\u001b[0m \u001b[0mmu\u001b[0m\u001b[0;34m==\u001b[0m\u001b[0;32mNone\u001b[0m \u001b[0;32melse\u001b[0m \u001b[0mmu\u001b[0m\u001b[0;34m\u001b[0m\u001b[0;34m\u001b[0m\u001b[0m\n",
      "\u001b[0;32m~/Документы/ProjectOptim/code2/methods.py\u001b[0m in \u001b[0;36m<lambda>\u001b[0;34m(x, z)\u001b[0m\n\u001b[1;32m    221\u001b[0m \u001b[0;34m\u001b[0m\u001b[0m\n\u001b[1;32m    222\u001b[0m         \u001b[0mD_phi\u001b[0m \u001b[0;34m=\u001b[0m \u001b[0;32mlambda\u001b[0m \u001b[0mx\u001b[0m\u001b[0;34m,\u001b[0m\u001b[0mz\u001b[0m\u001b[0;34m:\u001b[0m \u001b[0mf1\u001b[0m\u001b[0;34m(\u001b[0m\u001b[0mx\u001b[0m\u001b[0;34m)\u001b[0m  \u001b[0;34m-\u001b[0m \u001b[0mf1\u001b[0m\u001b[0;34m(\u001b[0m\u001b[0mz\u001b[0m\u001b[0;34m)\u001b[0m \u001b[0;34m-\u001b[0m \u001b[0mf1_grad\u001b[0m\u001b[0;34m(\u001b[0m\u001b[0mz\u001b[0m\u001b[0;34m)\u001b[0m\u001b[0;34m.\u001b[0m\u001b[0mdot\u001b[0m\u001b[0;34m(\u001b[0m\u001b[0mx\u001b[0m\u001b[0;34m-\u001b[0m\u001b[0mz\u001b[0m\u001b[0;34m)\u001b[0m \u001b[0;34m-\u001b[0m \u001b[0mmu\u001b[0m\u001b[0;34m/\u001b[0m\u001b[0;36m2\u001b[0m\u001b[0;34m*\u001b[0m\u001b[0mLA\u001b[0m\u001b[0;34m.\u001b[0m\u001b[0mnorm\u001b[0m\u001b[0;34m(\u001b[0m\u001b[0mx\u001b[0m\u001b[0;34m-\u001b[0m\u001b[0mz\u001b[0m\u001b[0;34m,\u001b[0m\u001b[0;36m2\u001b[0m\u001b[0;34m)\u001b[0m\u001b[0;34m**\u001b[0m\u001b[0;36m2\u001b[0m\u001b[0;34m\u001b[0m\u001b[0;34m\u001b[0m\u001b[0m\n\u001b[0;32m--> 223\u001b[0;31m         \u001b[0mD_phi_grad\u001b[0m \u001b[0;34m=\u001b[0m \u001b[0;32mlambda\u001b[0m \u001b[0mx\u001b[0m\u001b[0;34m,\u001b[0m\u001b[0mz\u001b[0m\u001b[0;34m:\u001b[0m \u001b[0mf1_grad\u001b[0m\u001b[0;34m(\u001b[0m\u001b[0mx\u001b[0m\u001b[0;34m)\u001b[0m \u001b[0;34m-\u001b[0m \u001b[0mf1_grad\u001b[0m\u001b[0;34m(\u001b[0m\u001b[0mz\u001b[0m\u001b[0;34m)\u001b[0m \u001b[0;34m-\u001b[0m \u001b[0mmu\u001b[0m\u001b[0;34m*\u001b[0m\u001b[0;34m(\u001b[0m\u001b[0mx\u001b[0m\u001b[0;34m-\u001b[0m\u001b[0mz\u001b[0m\u001b[0;34m)\u001b[0m\u001b[0;34m\u001b[0m\u001b[0;34m\u001b[0m\u001b[0m\n\u001b[0m\u001b[1;32m    224\u001b[0m         \u001b[0mV\u001b[0m \u001b[0;34m=\u001b[0m \u001b[0;32mlambda\u001b[0m \u001b[0mx\u001b[0m\u001b[0;34m:\u001b[0m \u001b[0mteta\u001b[0m\u001b[0;34m*\u001b[0m\u001b[0;34m(\u001b[0m\u001b[0mF_grad\u001b[0m\u001b[0;34m.\u001b[0m\u001b[0mdot\u001b[0m\u001b[0;34m(\u001b[0m\u001b[0mx\u001b[0m\u001b[0;34m)\u001b[0m\u001b[0;34m+\u001b[0m\u001b[0mg\u001b[0m\u001b[0;34m(\u001b[0m\u001b[0mx\u001b[0m\u001b[0;34m,\u001b[0m\u001b[0mC\u001b[0m\u001b[0;34m)\u001b[0m\u001b[0;34m)\u001b[0m \u001b[0;34m+\u001b[0m \u001b[0;34m(\u001b[0m\u001b[0;36m1\u001b[0m\u001b[0;34m-\u001b[0m\u001b[0mbeta\u001b[0m\u001b[0;34m)\u001b[0m\u001b[0;34m*\u001b[0m\u001b[0mD_phi\u001b[0m\u001b[0;34m(\u001b[0m\u001b[0mx\u001b[0m\u001b[0;34m,\u001b[0m\u001b[0mv_pred\u001b[0m\u001b[0;34m)\u001b[0m \u001b[0;34m+\u001b[0m \u001b[0mbeta\u001b[0m\u001b[0;34m*\u001b[0m\u001b[0mD_phi\u001b[0m\u001b[0;34m(\u001b[0m\u001b[0mx\u001b[0m\u001b[0;34m,\u001b[0m\u001b[0my\u001b[0m\u001b[0;34m)\u001b[0m\u001b[0;34m\u001b[0m\u001b[0;34m\u001b[0m\u001b[0m\n\u001b[1;32m    225\u001b[0m         \u001b[0mV_grad\u001b[0m \u001b[0;34m=\u001b[0m \u001b[0;32mlambda\u001b[0m \u001b[0mx\u001b[0m\u001b[0;34m:\u001b[0m \u001b[0mteta\u001b[0m\u001b[0;34m*\u001b[0m\u001b[0;34m(\u001b[0m\u001b[0mF_grad\u001b[0m\u001b[0;34m+\u001b[0m\u001b[0mg_gradient\u001b[0m\u001b[0;34m(\u001b[0m\u001b[0mx\u001b[0m\u001b[0;34m,\u001b[0m\u001b[0mC\u001b[0m\u001b[0;34m)\u001b[0m\u001b[0;34m)\u001b[0m \u001b[0;34m+\u001b[0m \u001b[0;34m(\u001b[0m\u001b[0;36m1\u001b[0m\u001b[0;34m-\u001b[0m\u001b[0mbeta\u001b[0m\u001b[0;34m)\u001b[0m\u001b[0;34m*\u001b[0m\u001b[0mD_phi_grad\u001b[0m\u001b[0;34m(\u001b[0m\u001b[0mx\u001b[0m\u001b[0;34m,\u001b[0m\u001b[0mv_pred\u001b[0m\u001b[0;34m)\u001b[0m \u001b[0;34m+\u001b[0m \u001b[0mbeta\u001b[0m\u001b[0;34m*\u001b[0m\u001b[0mD_phi_grad\u001b[0m\u001b[0;34m(\u001b[0m\u001b[0mx\u001b[0m\u001b[0;34m,\u001b[0m\u001b[0my\u001b[0m\u001b[0;34m)\u001b[0m\u001b[0;34m\u001b[0m\u001b[0;34m\u001b[0m\u001b[0m\n",
      "\u001b[0;32m~/Документы/ProjectOptim/code2/methods.py\u001b[0m in \u001b[0;36m<lambda>\u001b[0;34m(x)\u001b[0m\n\u001b[1;32m    218\u001b[0m         \u001b[0mmu\u001b[0m \u001b[0;34m=\u001b[0m \u001b[0;36m1\u001b[0m\u001b[0;34m/\u001b[0m\u001b[0mX\u001b[0m\u001b[0;34m.\u001b[0m\u001b[0mshape\u001b[0m\u001b[0;34m[\u001b[0m\u001b[0;36m0\u001b[0m\u001b[0;34m]\u001b[0m \u001b[0;32mif\u001b[0m \u001b[0mmu\u001b[0m\u001b[0;34m==\u001b[0m\u001b[0;32mNone\u001b[0m \u001b[0;32melse\u001b[0m \u001b[0mmu\u001b[0m\u001b[0;34m\u001b[0m\u001b[0;34m\u001b[0m\u001b[0m\n\u001b[1;32m    219\u001b[0m         \u001b[0mf1\u001b[0m \u001b[0;34m=\u001b[0m \u001b[0;32mlambda\u001b[0m \u001b[0mx\u001b[0m\u001b[0;34m:\u001b[0m \u001b[0mf\u001b[0m\u001b[0;34m(\u001b[0m\u001b[0mx\u001b[0m\u001b[0;34m,\u001b[0m \u001b[0mXb\u001b[0m\u001b[0;34m,\u001b[0m \u001b[0myb\u001b[0m\u001b[0;34m)\u001b[0m\u001b[0;34m\u001b[0m\u001b[0;34m\u001b[0m\u001b[0m\n\u001b[0;32m--> 220\u001b[0;31m         \u001b[0mf1_grad\u001b[0m \u001b[0;34m=\u001b[0m \u001b[0;32mlambda\u001b[0m \u001b[0mx\u001b[0m\u001b[0;34m:\u001b[0m \u001b[0mf_gradient\u001b[0m\u001b[0;34m(\u001b[0m\u001b[0mx\u001b[0m\u001b[0;34m,\u001b[0m \u001b[0mXb\u001b[0m\u001b[0;34m,\u001b[0m \u001b[0myb\u001b[0m\u001b[0;34m)\u001b[0m\u001b[0;34m\u001b[0m\u001b[0;34m\u001b[0m\u001b[0m\n\u001b[0m\u001b[1;32m    221\u001b[0m \u001b[0;34m\u001b[0m\u001b[0m\n\u001b[1;32m    222\u001b[0m         \u001b[0mD_phi\u001b[0m \u001b[0;34m=\u001b[0m \u001b[0;32mlambda\u001b[0m \u001b[0mx\u001b[0m\u001b[0;34m,\u001b[0m\u001b[0mz\u001b[0m\u001b[0;34m:\u001b[0m \u001b[0mf1\u001b[0m\u001b[0;34m(\u001b[0m\u001b[0mx\u001b[0m\u001b[0;34m)\u001b[0m  \u001b[0;34m-\u001b[0m \u001b[0mf1\u001b[0m\u001b[0;34m(\u001b[0m\u001b[0mz\u001b[0m\u001b[0;34m)\u001b[0m \u001b[0;34m-\u001b[0m \u001b[0mf1_grad\u001b[0m\u001b[0;34m(\u001b[0m\u001b[0mz\u001b[0m\u001b[0;34m)\u001b[0m\u001b[0;34m.\u001b[0m\u001b[0mdot\u001b[0m\u001b[0;34m(\u001b[0m\u001b[0mx\u001b[0m\u001b[0;34m-\u001b[0m\u001b[0mz\u001b[0m\u001b[0;34m)\u001b[0m \u001b[0;34m-\u001b[0m \u001b[0mmu\u001b[0m\u001b[0;34m/\u001b[0m\u001b[0;36m2\u001b[0m\u001b[0;34m*\u001b[0m\u001b[0mLA\u001b[0m\u001b[0;34m.\u001b[0m\u001b[0mnorm\u001b[0m\u001b[0;34m(\u001b[0m\u001b[0mx\u001b[0m\u001b[0;34m-\u001b[0m\u001b[0mz\u001b[0m\u001b[0;34m,\u001b[0m\u001b[0;36m2\u001b[0m\u001b[0;34m)\u001b[0m\u001b[0;34m**\u001b[0m\u001b[0;36m2\u001b[0m\u001b[0;34m\u001b[0m\u001b[0;34m\u001b[0m\u001b[0m\n",
      "\u001b[0;32m~/Документы/ProjectOptim/code2/methods.py\u001b[0m in \u001b[0;36mf_gradient\u001b[0;34m(w, Xb, yb)\u001b[0m\n\u001b[1;32m     40\u001b[0m \u001b[0;32mdef\u001b[0m \u001b[0mf_gradient\u001b[0m\u001b[0;34m(\u001b[0m\u001b[0mw\u001b[0m\u001b[0;34m,\u001b[0m \u001b[0mXb\u001b[0m\u001b[0;34m,\u001b[0m \u001b[0myb\u001b[0m\u001b[0;34m)\u001b[0m\u001b[0;34m:\u001b[0m\u001b[0;34m\u001b[0m\u001b[0;34m\u001b[0m\u001b[0m\n\u001b[1;32m     41\u001b[0m     \u001b[0mdenom\u001b[0m \u001b[0;34m=\u001b[0m \u001b[0mscspec\u001b[0m\u001b[0;34m.\u001b[0m\u001b[0mexpit\u001b[0m\u001b[0;34m(\u001b[0m\u001b[0;34m-\u001b[0m\u001b[0myb\u001b[0m \u001b[0;34m*\u001b[0m \u001b[0mXb\u001b[0m\u001b[0;34m.\u001b[0m\u001b[0mdot\u001b[0m\u001b[0;34m(\u001b[0m\u001b[0mw\u001b[0m\u001b[0;34m)\u001b[0m\u001b[0;34m)\u001b[0m\u001b[0;34m\u001b[0m\u001b[0;34m\u001b[0m\u001b[0m\n\u001b[0;32m---> 42\u001b[0;31m     \u001b[0;32mreturn\u001b[0m \u001b[0;34m-\u001b[0m  \u001b[0mXb\u001b[0m\u001b[0;34m.\u001b[0m\u001b[0mT\u001b[0m\u001b[0;34m.\u001b[0m\u001b[0mdot\u001b[0m\u001b[0;34m(\u001b[0m\u001b[0myb\u001b[0m \u001b[0;34m*\u001b[0m \u001b[0mdenom\u001b[0m\u001b[0;34m)\u001b[0m \u001b[0;34m/\u001b[0m \u001b[0mXb\u001b[0m\u001b[0;34m.\u001b[0m\u001b[0mshape\u001b[0m\u001b[0;34m[\u001b[0m\u001b[0;36m0\u001b[0m\u001b[0;34m]\u001b[0m\u001b[0;34m\u001b[0m\u001b[0;34m\u001b[0m\u001b[0m\n\u001b[0m\u001b[1;32m     43\u001b[0m \u001b[0;32mdef\u001b[0m \u001b[0mg_gradient\u001b[0m\u001b[0;34m(\u001b[0m\u001b[0mw\u001b[0m\u001b[0;34m,\u001b[0m\u001b[0mC\u001b[0m\u001b[0;34m=\u001b[0m\u001b[0mC\u001b[0m\u001b[0;34m,\u001b[0m \u001b[0mm\u001b[0m \u001b[0;34m=\u001b[0m \u001b[0;36m64\u001b[0m\u001b[0;34m)\u001b[0m\u001b[0;34m:\u001b[0m\u001b[0;34m\u001b[0m\u001b[0;34m\u001b[0m\u001b[0m\n\u001b[1;32m     44\u001b[0m     \u001b[0;32mreturn\u001b[0m \u001b[0mnp\u001b[0m\u001b[0;34m.\u001b[0m\u001b[0mconcatenate\u001b[0m\u001b[0;34m(\u001b[0m\u001b[0;34m(\u001b[0m\u001b[0;36m2\u001b[0m\u001b[0;34m*\u001b[0m\u001b[0mC\u001b[0m\u001b[0;34m[\u001b[0m\u001b[0;36m0\u001b[0m\u001b[0;34m]\u001b[0m\u001b[0;34m*\u001b[0m\u001b[0mw\u001b[0m\u001b[0;34m[\u001b[0m\u001b[0;34m:\u001b[0m\u001b[0mm\u001b[0m\u001b[0;34m]\u001b[0m\u001b[0;34m,\u001b[0m\u001b[0;36m2\u001b[0m\u001b[0;34m*\u001b[0m\u001b[0mC\u001b[0m\u001b[0;34m[\u001b[0m\u001b[0;36m1\u001b[0m\u001b[0;34m]\u001b[0m\u001b[0;34m*\u001b[0m\u001b[0mw\u001b[0m\u001b[0;34m[\u001b[0m\u001b[0mm\u001b[0m\u001b[0;34m:\u001b[0m\u001b[0;34m]\u001b[0m\u001b[0;34m)\u001b[0m\u001b[0;34m,\u001b[0m \u001b[0maxis\u001b[0m\u001b[0;34m=\u001b[0m\u001b[0;36m0\u001b[0m\u001b[0;34m)\u001b[0m\u001b[0;34m\u001b[0m\u001b[0;34m\u001b[0m\u001b[0m\n",
      "\u001b[0;31mKeyboardInterrupt\u001b[0m: "
     ]
    }
   ],
   "source": [
    "import imp\n",
    "import methods\n",
    "imp.reload(methods)\n",
    "x0 = 10*np.random.rand(X.shape[1])\n",
    "\n",
    "t_SPAG, x_SPAG, conv_SPAG = methods.SPAG(f, f_gradient, g, g_gradient, X, Y, C, x0, epochs = 4,solver = \"my\")\n",
    "print(\"SPAG f*   = {}\".format(min([f_(x) + g(x,C) for x in conv_SPAG])), \"time: \", t_SPAG[-1])\n",
    "\n",
    "t_SPAG2, x_SPAG2, conv_SPAG2 = methods.SPAG(f, f_gradient, g, g_gradient, X, Y, C, x0, epochs = 4)\n",
    "print(\"SPAG f*   = {}\".format(min([f_(x) + g(x,C) for x in conv_SPAG2])), \"time: \", t_SPAG2[-1])\n",
    "\n",
    "t_adSGDa, x_adSGDa, conv_adSGDa = methods.adapt_SGDac(logloss, logloss_gradient, X, Y, C, x0,D_0 = 0.03*0.3,\n",
    "                                                      epochs = 1500)\n",
    "print(\"adaptSGDa f*   = {}\".format(min([f_(x) + g(x,C) for x in conv_adSGDa])), \"time: \", t_adSGDa[-1])\n",
    "\n",
    "t_fprsgd, x_fprsgd, conv_fprsgd = methods.prox_SGD(f,f_gradient,quad_prox, X, Y, C, x0,epochs = 20,alpha = 0.05,\n",
    "                                         batch_size = 4096, accel=True)\n",
    "print(\"fastProxSGD f* = {}\".format(f_(x_fprsgd) + g(x_fprsgd,C)), \"time: \", t_fprsgd[-1])"
   ]
  },
  {
   "cell_type": "code",
   "execution_count": 3,
   "metadata": {},
   "outputs": [
    {
     "name": "stdout",
     "output_type": "stream",
     "text": [
      "SPAG f*   = 0.6957191325284001 time:  10.222940282000081\n",
      "fastProxSGD f* = 0.7009939768040326 time:  11.590489374000072\n",
      "SPAG f*   = 0.6995312006830056 time:  9.02055873900008\n",
      "fastProxSGD f* = 0.7009940090182473 time:  12.120771655999988\n",
      "SPAG f*   = 0.6955234993725846 time:  8.924669049000158\n",
      "fastProxSGD f* = 0.7009938271364989 time:  11.641514837000159\n",
      "SPAG f*   = 0.6976349933470455 time:  6.89730499999996\n",
      "fastProxSGD f* = 0.7009934552278554 time:  11.63896403800004\n",
      "SPAG f*   = 0.696280987901748 time:  7.740234837999878\n",
      "fastProxSGD f* = 0.7009937760353157 time:  11.561587749999944\n",
      "SPAG f*   = 0.6959921769752079 time:  8.596753221999961\n",
      "fastProxSGD f* = 0.7009936107399932 time:  11.553367564999917\n",
      "SPAG f*   = 0.7133284419532692 time:  6.017197166999949\n",
      "fastProxSGD f* = 0.7009938289898502 time:  11.33121151399996\n",
      "SPAG f*   = 3.953283901033595 time:  13.682577588999948\n",
      "fastProxSGD f* = 0.700993967073673 time:  11.429104407000068\n",
      "SPAG f*   = 0.6969675078220038 time:  9.947305631000063\n",
      "fastProxSGD f* = 0.7009934786220628 time:  11.276758631999883\n",
      "SPAG f*   = 0.6961220064570319 time:  7.988063507000106\n",
      "fastProxSGD f* = 0.7009936606969063 time:  11.315014426999824\n",
      "SPAG f*   = 0.6969733184485092 time:  9.223703548999993\n",
      "fastProxSGD f* = 0.7009937355512311 time:  11.278317958000116\n",
      "SPAG f*   = 0.6956575119571476 time:  9.475713049999968\n",
      "fastProxSGD f* = 0.7009937429839946 time:  11.40059584300002\n",
      "SPAG f*   = 0.6958932438883133 time:  8.387227840999913\n",
      "fastProxSGD f* = 0.700994361927826 time:  11.570490065000058\n",
      "SPAG f*   = 0.6974995433068526 time:  8.498733322999897\n",
      "fastProxSGD f* = 0.7009940759988642 time:  11.221432106000066\n",
      "SPAG f*   = 6.294363856038584 time:  13.05906048299994\n",
      "fastProxSGD f* = 0.7009938168322533 time:  11.278661503000194\n",
      "SPAG f*   = 0.6969286359743234 time:  9.462870791999876\n",
      "fastProxSGD f* = 0.7009938509215491 time:  11.529116421000026\n",
      "SPAG f*   = 0.7116974126044753 time:  8.041371127000048\n",
      "fastProxSGD f* = 0.700993902989578 time:  11.263726741000028\n",
      "SPAG f*   = 0.6956144482160791 time:  8.320495176999884\n",
      "fastProxSGD f* = 0.7009937681345765 time:  11.653113178999774\n",
      "SPAG f*   = 0.6956502231266349 time:  10.047798659999899\n",
      "fastProxSGD f* = 0.7009935806411954 time:  11.688105094999855\n",
      "SPAG f*   = 0.6955529301425544 time:  8.098740030000044\n",
      "fastProxSGD f* = 0.7009947176138831 time:  11.36605798100004\n"
     ]
    }
   ],
   "source": [
    "import imp\n",
    "import methods\n",
    "imp.reload(methods)\n",
    "\n",
    "t_SPAG, x_SPAG, conv_SPAG = {},{},{}\n",
    "t_adSGDa, x_adSGDa, conv_adSGDa,t_fprsgd, x_fprsgd, conv_fprsgd = {},{},{},{},{},{}\n",
    "\n",
    "for i in range(20):\n",
    "    index = np.arange(np.shape(X)[0])\n",
    "    np.random.shuffle(index)\n",
    "    X = X[index, :]\n",
    "    Y = Y[index]\n",
    "\n",
    "    t_SPAG[i], x_SPAG[i], conv_SPAG[i] = methods.SPAG(f, f_gradient, g, g_gradient, X, Y, C, x0, epochs = 4,solver = \"my\")\n",
    "    print(\"SPAG f*   = {}\".format(f_(x_SPAG[i]) + g(x_SPAG[i],C)), \"time: \", t_SPAG[i][-1])\n",
    "    np.save(f't_SPAG{i}', t_SPAG[i])\n",
    "    np.save(f'conv_SPAG{i}', conv_SPAG[i])\n",
    "    del t_SPAG[i]\n",
    "    del conv_SPAG[i]\n",
    "#    t_SPAG2[i], x_SPAG2[i], conv_SPAG2[i] = methods.SPAG(f, f_gradient, g, g_gradient, X, Y, C, x0, epochs = 4)\n",
    "#    print(\"SPAG2 f*   = {}\".format(f_(x_SPAG2[i]) + g(x_SPAG2[i],C)), \"time: \", t_SPAG2[i][-1])\n",
    "\n",
    "    t_adSGDa[i], x_adSGDa[i], conv_adSGDa[i] = methods.adapt_SGDac(logloss, logloss_gradient, X, Y, C, x0,D_0 = 0.03*0.3,\n",
    "                                                          epochs = 1500)\n",
    "#    print(\"adaptSGDa f*   = {}\".format(min([f_(x) + g(x,C) for x in conv_adSGDa[i]])), \"time: \", t_adSGDa[i][-1])\n",
    "    np.save(f't_adSGDa{i}', t_adSGDa[i])\n",
    "    np.save(f'conv_adSGDa{i}', conv_adSGDa[i])\n",
    "    del t_adSGDa[i]\n",
    "    del conv_adSGDa[i]\n",
    "    \n",
    "    t_fprsgd[i], x_fprsgd[i], conv_fprsgd[i] = methods.prox_SGD(f,f_gradient,quad_prox, X, Y, C, x0,epochs = 20,alpha = 0.05,\n",
    "                                         batch_size = 4096, accel=True)\n",
    "    print(\"fastProxSGD f* = {}\".format(f_(x_fprsgd[i]) + g(x_fprsgd[i],C)), \"time: \", t_fprsgd[i][-1])\n",
    "    np.save(f't_fprsgd{i}', t_fprsgd[i])\n",
    "    np.save(f'conv_fprsgd{i}', conv_fprsgd[i])\n",
    "    del t_fprsgd[i]\n",
    "    del conv_fprsgd[i]\n",
    "    "
   ]
  },
  {
   "cell_type": "code",
   "execution_count": 10,
   "metadata": {},
   "outputs": [
    {
     "name": "stdout",
     "output_type": "stream",
     "text": [
      "0\n",
      "1\n",
      "2\n",
      "3\n",
      "4\n",
      "5\n",
      "6\n",
      "7\n",
      "8\n",
      "9\n",
      "10\n",
      "11\n",
      "12\n",
      "13\n",
      "14\n",
      "15\n",
      "16\n",
      "17\n",
      "18\n",
      "19\n"
     ]
    }
   ],
   "source": [
    "t_SPAG, x_SPAG, conv_SPAG = {},{},{}\n",
    "t_adSGDa, x_adSGDa, conv_adSGDa, t_fprsgd, x_fprsgd, conv_fprsgd = {},{},{},{},{},{}\n",
    "\n",
    "fun_SPAG, fun_adSGDa, fun_fprsgd = {},{},{}\n",
    "tpoint_SPAG, tpoint_adSGDa, tpoint_fprsgd = {},{},{}\n",
    "\n",
    "for i in range(20):\n",
    "    t_SPAG = np.load(f't_SPAG{i}.npy')\n",
    "    conv_SPAG = np.load(f'conv_SPAG{i}.npy')\n",
    "    t_adSGDa = np.load(f't_adSGDa{i}.npy')\n",
    "    conv_adSGDa = np.load(f'conv_adSGDa{i}.npy')\n",
    "    t_fprsgd = np.load(f't_fprsgd{i}.npy')\n",
    "    conv_fprsgd = np.load(f'conv_fprsgd{i}.npy')\n",
    "    \n",
    "    fun_SPAG[i] = np.asarray([f_(x) + g(x,C) for x in conv_SPAG])\n",
    "    tpoint_SPAG[i] = t_SPAG\n",
    "    fun_adSGDa[i] = np.asarray([f_(x) + g(x,C) for x in conv_adSGDa[::30]])\n",
    "    tpoint_adSGDa[i] = t_adSGDa[::30]\n",
    "    fun_fprsgd[i] = np.asarray([f_(x) + g(x,C) for x in conv_fprsgd[::100]])\n",
    "    tpoint_fprsgd[i] = t_fprsgd[::100]\n",
    "    \n",
    "    del t_SPAG, conv_SPAG, t_adSGDa, conv_adSGDa, t_fprsgd, conv_fprsgd\n",
    "    print(i)"
   ]
  },
  {
   "cell_type": "code",
   "execution_count": 14,
   "metadata": {},
   "outputs": [],
   "source": [
    "def approx(t_list, f_list, t):\n",
    "    ind_l = [i for i in range(len(t_list)) if t_list[i] <= t] \n",
    "    ind_r = [i for i in range(len(t_list)) if t_list[i] > t]\n",
    "    if len(ind_l) == 0:\n",
    "        return f_list[ind_r[0]]\n",
    "    if len(ind_r) == 0:\n",
    "        return f_list[ind_l[-1]]\n",
    "    ind_l, ind_r = ind_l[-1], ind_r[0]\n",
    "    t_l = t_list[ind_l]\n",
    "    t_r = t_list[ind_r]\n",
    "    f_l = f_list[ind_l]\n",
    "    f_r = f_list[ind_r]\n",
    "    return (t_r-t)/(t_r-t_l)*f_l + (t-t_l)/(t_r-t_l)*f_r\n",
    "\n",
    "def averaging(t_dict, f_dict, t):\n",
    "    res, std = 0, 0\n",
    "    n = len(t_dict)\n",
    "    for i in range(len(t_dict)):\n",
    "        if i == 7 or i ==14: continue\n",
    "        res += approx(t_dict[i], f_dict[i], t)\n",
    "    res = res/n\n",
    "    for i in range(len(t_dict)):\n",
    "        if i == 7 or i ==14: continue\n",
    "        std += (approx(t_dict[i], f_dict[i], t) - res)**2 / (n-1)\n",
    "    return res, 2*np.sqrt(std)"
   ]
  },
  {
   "cell_type": "code",
   "execution_count": 15,
   "metadata": {},
   "outputs": [],
   "source": [
    "t_points = np.linspace(0.00, 10.0, num=20)\n",
    "\n",
    "f_gr_SPAG = np.asarray([averaging(tpoint_SPAG, fun_SPAG, t) for t in t_points]).T\n",
    "f_gr_adSGDa = np.asarray([averaging(tpoint_adSGDa, fun_adSGDa, t) for t in t_points]).T\n",
    "f_gr_fprsgd = np.asarray([averaging(tpoint_fprsgd, fun_fprsgd, t) for t in t_points]).T"
   ]
  },
  {
   "cell_type": "code",
   "execution_count": 16,
   "metadata": {},
   "outputs": [
    {
     "data": {
      "image/png": "[encoded data removed]",
      "text/plain": [
       "<Figure size 864x576 with 1 Axes>"
      ]
     },
     "metadata": {
      "needs_background": "light"
     },
     "output_type": "display_data"
    }
   ],
   "source": [
    "plt.figure(figsize=(12, 8))\n",
    "fontsize=20\n",
    "\n",
    "plt.errorbar(t_points, f_gr_SPAG[0], yerr = f_gr_SPAG[1], uplims=True, lolims=True, label=\"SPAG+SGDadaptBatch\", linewidth = 1, color = 'r')\n",
    "plt.errorbar(t_points, f_gr_adSGDa[0], yerr = f_gr_adSGDa[1], uplims=True, lolims=True, label=\"SGDadaptBatch\", linewidth = 1, color = 'b')\n",
    "plt.errorbar(t_points, f_gr_fprsgd[0], yerr = f_gr_fprsgd[1], uplims=True, lolims=True, label=\"ProxSGD\", linewidth = 1, color = 'g')\n",
    "        \n",
    "plt.legend(fontsize=fontsize)\n",
    "plt.xlabel(r\"time, c\", fontsize=fontsize)\n",
    "plt.ylabel(r\"$F(x) + \\psi(x)$\", fontsize=fontsize)\n",
    "plt.xticks(fontsize=fontsize)\n",
    "_ = plt.yticks(fontsize=fontsize)\n",
    "plt.yscale(\"log\")\n",
    "\n",
    "plt.savefig('grafics.svg')"
   ]
  },
  {
   "cell_type": "code",
   "execution_count": 6,
   "metadata": {},
   "outputs": [
    {
     "ename": "NameError",
     "evalue": "name 'conv_SPAG' is not defined",
     "output_type": "error",
     "traceback": [
      "\u001b[0;31m---------------------------------------------------------------------------\u001b[0m",
      "\u001b[0;31mNameError\u001b[0m                                 Traceback (most recent call last)",
      "\u001b[0;32m<ipython-input-6-7ba6c0b23d55>\u001b[0m in \u001b[0;36m<module>\u001b[0;34m\u001b[0m\n\u001b[1;32m      3\u001b[0m \u001b[0;34m\u001b[0m\u001b[0m\n\u001b[1;32m      4\u001b[0m \u001b[0;34m\u001b[0m\u001b[0m\n\u001b[0;32m----> 5\u001b[0;31m \u001b[0;32mfor\u001b[0m \u001b[0mi\u001b[0m \u001b[0;32min\u001b[0m \u001b[0mrange\u001b[0m\u001b[0;34m(\u001b[0m\u001b[0mlen\u001b[0m\u001b[0;34m(\u001b[0m\u001b[0mconv_SPAG\u001b[0m\u001b[0;34m)\u001b[0m\u001b[0;34m)\u001b[0m\u001b[0;34m:\u001b[0m\u001b[0;34m\u001b[0m\u001b[0;34m\u001b[0m\u001b[0m\n\u001b[0m\u001b[1;32m      6\u001b[0m     \u001b[0;32mif\u001b[0m \u001b[0mi\u001b[0m \u001b[0;34m==\u001b[0m \u001b[0;36m0\u001b[0m\u001b[0;34m:\u001b[0m\u001b[0;34m\u001b[0m\u001b[0;34m\u001b[0m\u001b[0m\n\u001b[1;32m      7\u001b[0m         \u001b[0mplt\u001b[0m\u001b[0;34m.\u001b[0m\u001b[0mplot\u001b[0m\u001b[0;34m(\u001b[0m\u001b[0mtpoint_SPAG\u001b[0m\u001b[0;34m[\u001b[0m\u001b[0mi\u001b[0m\u001b[0;34m]\u001b[0m\u001b[0;34m,\u001b[0m \u001b[0mfun_SPAG\u001b[0m\u001b[0;34m[\u001b[0m\u001b[0mi\u001b[0m\u001b[0;34m]\u001b[0m\u001b[0;34m,\u001b[0m \u001b[0mlabel\u001b[0m\u001b[0;34m=\u001b[0m\u001b[0;34m\"SPAG+SGDadaptBatch\"\u001b[0m\u001b[0;34m,\u001b[0m \u001b[0mlinewidth\u001b[0m \u001b[0;34m=\u001b[0m \u001b[0;36m0.6\u001b[0m\u001b[0;34m,\u001b[0m \u001b[0mcolor\u001b[0m \u001b[0;34m=\u001b[0m \u001b[0;34m'r'\u001b[0m\u001b[0;34m)\u001b[0m\u001b[0;34m\u001b[0m\u001b[0;34m\u001b[0m\u001b[0m\n",
      "\u001b[0;31mNameError\u001b[0m: name 'conv_SPAG' is not defined"
     ]
    },
    {
     "data": {
      "text/plain": [
       "<Figure size 864x576 with 0 Axes>"
      ]
     },
     "metadata": {},
     "output_type": "display_data"
    }
   ],
   "source": [
    "plt.figure(figsize=(12, 8))\n",
    "fontsize=20\n",
    "\n",
    "    \n",
    "for i in range(len(conv_SPAG)):    \n",
    "    if i == 0:\n",
    "        plt.plot(tpoint_SPAG[i], fun_SPAG[i], label=\"SPAG+SGDadaptBatch\", linewidth = 0.6, color = 'r')\n",
    "        plt.plot(tpoint_adSGDa[i], fun_adSGDa[i], label=\"SGDadaptBatch\", linewidth = 0.6, color = 'b')\n",
    "        plt.plot(tpoint_fprsgd[i], fun_fprsgd[i], label=\"ProxSGD\", linewidth = 0.6, color = 'g')\n",
    "    else:\n",
    "        plt.plot(tpoint_SPAG[i], fun_SPAG[i], linewidth = 0.6, color = 'r')\n",
    "        plt.plot(tpoint_adSGDa[i], fun_adSGDa[i], linewidth = 0.6, color = 'b')\n",
    "        plt.plot(tpoint_fprsgd[i], fun_fprsgd[i], linewidth = 0.6, color = 'g')\n",
    "        \n",
    "plt.legend(fontsize=fontsize)\n",
    "plt.xlabel(r\"time, c\", fontsize=fontsize)\n",
    "plt.ylabel(r\"$F(x) + \\psi(x)$\", fontsize=fontsize)\n",
    "plt.xticks(fontsize=fontsize)\n",
    "_ = plt.yticks(fontsize=fontsize)\n",
    "plt.yscale(\"log\")"
   ]
  },
  {
   "cell_type": "code",
   "execution_count": null,
   "metadata": {},
   "outputs": [],
   "source": []
  },
  {
   "cell_type": "code",
   "execution_count": 24,
   "metadata": {},
   "outputs": [
    {
     "data": {
      "text/plain": [
       "2"
      ]
     },
     "execution_count": 24,
     "metadata": {},
     "output_type": "execute_result"
    }
   ],
   "source": [
    "np.where(fun_SPAG[0] < 0.706)[0][0]"
   ]
  },
  {
   "cell_type": "code",
   "execution_count": 53,
   "metadata": {},
   "outputs": [
    {
     "data": {
      "text/plain": [
       "array([31, 32, 33, 34, 35, 36, 37, 38, 39, 40, 41, 42, 43, 44, 45, 46, 47,\n",
       "       48, 49, 50])"
      ]
     },
     "execution_count": 53,
     "metadata": {},
     "output_type": "execute_result"
    }
   ],
   "source": [
    "i = 9\n",
    "np.where(fun_adSGDa[i] < 0.761)[0]"
   ]
  },
  {
   "cell_type": "code",
   "execution_count": 77,
   "metadata": {},
   "outputs": [],
   "source": [
    "time_SPAG = np.asarray([t_SPAG[i][np.where(fun_SPAG[i] < 0.706)[0][0]] for i in [0,1,2,5,6,7,8]])\n",
    "time_adSGDa = np.asarray([t_adSGDa[i][::30][np.where(fun_adSGDa[i] < 0.761)[0][0]] for i in list(range(10))])\n",
    "time_fprsgd = np.asarray([t_fprsgd[i][::150][np.where(fun_fprsgd[i] < 0.708)[0][0]] for i in list(range(10))])\n",
    "\n"
   ]
  },
  {
   "cell_type": "code",
   "execution_count": 78,
   "metadata": {},
   "outputs": [],
   "source": [
    "mean_SPAG = time_SPAG.mean()\n",
    "mean_adSGDa = time_adSGDa.mean()\n",
    "mean_fprsgd = time_fprsgd.mean()"
   ]
  },
  {
   "cell_type": "code",
   "execution_count": 79,
   "metadata": {},
   "outputs": [],
   "source": [
    "std_SPAG = time_SPAG.std()\n",
    "std_adSGDa = time_adSGDa.std()\n",
    "std_fprsgd = time_fprsgd.std()"
   ]
  },
  {
   "cell_type": "code",
   "execution_count": 81,
   "metadata": {},
   "outputs": [
    {
     "name": "stdout",
     "output_type": "stream",
     "text": [
      "0.706 0.761 0.708\n",
      "4.751020831428605 8.810901073900073 7.716385578799986\n",
      "2.698083503038056 1.0621552384963218 0.7410423422242121\n"
     ]
    }
   ],
   "source": [
    "print(0.706, 0.761, 0.708)\n",
    "print(mean_SPAG,mean_adSGDa,mean_fprsgd)\n",
    "print(std_SPAG,std_adSGDa,std_fprsgd)"
   ]
  },
  {
   "cell_type": "code",
   "execution_count": null,
   "metadata": {},
   "outputs": [],
   "source": []
  }
 ],
 "metadata": {
  "kernelspec": {
   "display_name": "Python 3",
   "language": "python",
   "name": "python3"
  },
  "language_info": {
   "codemirror_mode": {
    "name": "ipython",
    "version": 3
   },
   "file_extension": ".py",
   "mimetype": "text/x-python",
   "name": "python",
   "nbconvert_exporter": "python",
   "pygments_lexer": "ipython3",
   "version": "3.7.6"
  }
 },
 "nbformat": 4,
 "nbformat_minor": 4
}
